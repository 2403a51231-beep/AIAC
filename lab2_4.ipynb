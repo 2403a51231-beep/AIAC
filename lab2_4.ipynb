{
  "nbformat": 4,
  "nbformat_minor": 0,
  "metadata": {
    "colab": {
      "provenance": [],
      "authorship_tag": "ABX9TyPR3Z5SKjExaNfzh6yWIMQm",
      "include_colab_link": true
    },
    "kernelspec": {
      "name": "python3",
      "display_name": "Python 3"
    },
    "language_info": {
      "name": "python"
    }
  },
  "cells": [
    {
      "cell_type": "markdown",
      "metadata": {
        "id": "view-in-github",
        "colab_type": "text"
      },
      "source": [
        "<a href=\"https://colab.research.google.com/github/2403a51231-beep/AIAC/blob/main/lab2_4.ipynb\" target=\"_parent\"><img src=\"https://colab.research.google.com/assets/colab-badge.svg\" alt=\"Open In Colab\"/></a>"
      ]
    },
    {
      "cell_type": "code",
      "execution_count": 1,
      "metadata": {
        "id": "eMA4UJKcNx0Q"
      },
      "outputs": [],
      "source": []
    },
    {
      "cell_type": "markdown",
      "source": [
        "task0: write python function to verify the given number is odd or even\n",
        "\n",
        "prompt: Generate a python function to check odd or even number"
      ],
      "metadata": {
        "id": "2ammqMKTOl6n"
      }
    },
    {
      "cell_type": "code",
      "source": [
        "def is_odd_or_even(number):\n",
        "  \"\"\"\n",
        "  Checks if a given number is odd or even.\n",
        "\n",
        "  Args:\n",
        "    number: The number to check.\n",
        "\n",
        "  Returns:\n",
        "    \"Even\" if the number is even, \"Odd\" if the number is odd.\n",
        "  \"\"\"\n",
        "  if number % 2 == 0:\n",
        "    return \"Even\"\n",
        "  else:\n",
        "    return \"Odd\"\n",
        "\n",
        "# Example usage:\n",
        "print(is_odd_or_even(4))\n",
        "print(is_odd_or_even(7))"
      ],
      "metadata": {
        "colab": {
          "base_uri": "https://localhost:8080/"
        },
        "id": "Lm0qOEIlP0JJ",
        "outputId": "481647cc-ca30-4124-cba1-e6fb2108a1ca"
      },
      "execution_count": 2,
      "outputs": [
        {
          "output_type": "stream",
          "name": "stdout",
          "text": [
            "Even\n",
            "Odd\n"
          ]
        }
      ]
    },
    {
      "cell_type": "markdown",
      "source": [
        "if number % 2 == 0:\n",
        "    return \"Even\"\n",
        "  else:\n",
        "    return \"Odd\""
      ],
      "metadata": {
        "id": "4mHxx3etSWqC"
      }
    },
    {
      "cell_type": "code",
      "source": [],
      "metadata": {
        "id": "IZb8cJ3VSgOg"
      },
      "execution_count": null,
      "outputs": []
    },
    {
      "cell_type": "markdown",
      "metadata": {
        "id": "f3f29814"
      },
      "source": [
        "This code snippet defines a Python function called `is_odd_or_even` that takes one argument, `number`. It checks if the `number` is divisible by 2 using the modulo operator (`%`). If the remainder is 0, the function returns \"Even\"; otherwise, it returns \"Odd\"."
      ]
    },
    {
      "cell_type": "markdown",
      "source": [
        "task1:\n",
        "Write Python code that sorts a list in two ways:\n",
        "\n",
        "prompt:\n",
        "Write Python code that sorts a list in two ways:\n",
        "Using bubble sort algorithm (manual implementation)\n",
        "Using Python's built-in sort() method\n",
        "Print both sorted lists for comparison\n"
      ],
      "metadata": {
        "id": "AQr7M_0FU_3Z"
      }
    },
    {
      "cell_type": "code",
      "source": [
        "def bubble_sort(lst):\n",
        "  \"\"\"Sorts a list using the bubble sort algorithm.\"\"\"\n",
        "  n = len(lst)\n",
        "  for i in range(n):\n",
        "    for j in range(0, n - i - 1):\n",
        "      if lst[j] > lst[j + 1]:\n",
        "        lst[j], lst[j + 1] = lst[j + 1], lst[j]\n",
        "  return lst\n",
        "\n",
        "# Original list\n",
        "my_list = [64, 34, 25, 12, 22, 11, 90]\n",
        "\n",
        "# Sort using bubble sort\n",
        "bubble_sorted_list = bubble_sort(my_list.copy()) # Use a copy to keep the original list\n",
        "print(\"Bubble sorted list:\", bubble_sorted_list)\n",
        "\n",
        "# Sort using built-in sort() method\n",
        "my_list.sort()\n",
        "print(\"Built-in sort() list:\", my_list)"
      ],
      "metadata": {
        "colab": {
          "base_uri": "https://localhost:8080/"
        },
        "id": "gdVKp-HnVyZf",
        "outputId": "639a2ccb-98df-4f51-a9f5-82e199edfadf"
      },
      "execution_count": 3,
      "outputs": [
        {
          "output_type": "stream",
          "name": "stdout",
          "text": [
            "Bubble sorted list: [11, 12, 22, 25, 34, 64, 90]\n",
            "Built-in sort() list: [11, 12, 22, 25, 34, 64, 90]\n"
          ]
        }
      ]
    },
    {
      "cell_type": "markdown",
      "source": [
        "EXPLANATION:\n",
        "\n",
        "This code sorts a list in two ways:\n",
        "\n",
        "Bubble Sort: The bubble_sort function implements the bubble sort algorithm manually. It repeatedly steps through the list, compares adjacent elements and swaps them if they are in the wrong order. This process is repeated until the list is sorted. A copy of the original list is used for bubble sort so that the original list remains unchanged for the next sorting method.\n",
        "Built-in sort(): The code then uses Python's built-in sort() method directly on the original list. This method sorts the list in-place using an optimized algorithm (Timsort).\n",
        "Finally, both the bubble-sorted list and the list sorted using the built-in method are printed for comparison."
      ],
      "metadata": {
        "id": "IlE_4FdiWOlo"
      }
    },
    {
      "cell_type": "markdown",
      "source": [
        "task2:Write a Python function that takes a string and returns:\n",
        "\n",
        "prompt:\n",
        "Write a Python function that takes a string and returns:\n",
        "Number of vowels\n",
        "Number of consonants\n",
        "Number of digits\n",
        "Test the function with an example string and print the results\n",
        "\n"
      ],
      "metadata": {
        "id": "U-GfQO9iWYg4"
      }
    },
    {
      "cell_type": "code",
      "source": [
        "def count_chars(input_string):\n",
        "  \"\"\"\n",
        "  Counts the number of vowels, consonants, and digits in a string.\n",
        "\n",
        "  Args:\n",
        "    input_string: The string to analyze.\n",
        "\n",
        "  Returns:\n",
        "    A dictionary containing the counts of vowels, consonants, and digits.\n",
        "  \"\"\"\n",
        "  vowels = \"aeiouAEIOU\"\n",
        "  consonants = \"bcdfghjklmnpqrstvwxyzBCDFGHJKLMNPQRSTVWXYZ\"\n",
        "  digits = \"0123456789\"\n",
        "\n",
        "  vowel_count = 0\n",
        "  consonant_count = 0\n",
        "  digit_count = 0\n",
        "\n",
        "  for char in input_string:\n",
        "    if char in vowels:\n",
        "      vowel_count += 1\n",
        "    elif char in consonants:\n",
        "      consonant_count += 1\n",
        "    elif char in digits:\n",
        "      digit_count += 1\n",
        "\n",
        "  return {\n",
        "      \"vowels\": vowel_count,\n",
        "      \"consonants\": consonant_count,\n",
        "      \"digits\": digit_count\n",
        "  }\n",
        "\n",
        "# Example usage:\n",
        "example_string = \"Hello World 123!\"\n",
        "counts = count_chars(example_string)\n",
        "print(\"Counts for string:\", example_string)\n",
        "print(\"Vowels:\", counts[\"vowels\"])\n",
        "print(\"Consonants:\", counts[\"consonants\"])\n",
        "print(\"Digits:\", counts[\"digits\"])"
      ],
      "metadata": {
        "colab": {
          "base_uri": "https://localhost:8080/"
        },
        "id": "uPgrzgMYWxUv",
        "outputId": "177b97d2-ee7c-43f8-a1fa-02ea8c780d28"
      },
      "execution_count": 4,
      "outputs": [
        {
          "output_type": "stream",
          "name": "stdout",
          "text": [
            "Counts for string: Hello World 123!\n",
            "Vowels: 3\n",
            "Consonants: 7\n",
            "Digits: 3\n"
          ]
        }
      ]
    },
    {
      "cell_type": "markdown",
      "source": [
        "EXPLANATION\n",
        "\n",
        "This code defines a Python function called count_chars that takes a string as input and counts the number of vowels, consonants, and digits within that string.\n",
        "\n",
        "Here's a breakdown:\n",
        "\n",
        "It initializes three strings: vowels, consonants, and digits containing the respective characters.\n",
        "It initializes three counters: vowel_count, consonant_count, and digit_count to zero.\n",
        "It iterates through each character in the input string.\n",
        "For each character, it checks if it's in the vowels, consonants, or digits strings and increments the corresponding counter.\n",
        "Finally, it returns a dictionary containing the counts of vowels, consonants, and digits.\n",
        "The example usage demonstrates how to call the function with the string \"Hello World 123!\" and prints the resulting counts.\n",
        "\n"
      ],
      "metadata": {
        "id": "MgNavZ5OXDQ5"
      }
    },
    {
      "cell_type": "markdown",
      "source": [
        "task3:\n",
        "Write Python code to:\n",
        "\n",
        "prompt:\n",
        "Write Python code to:\n",
        "Create a text file\n",
        "Write some sample text into it\n",
        "Read the text from the file and display it\n"
      ],
      "metadata": {
        "id": "n_pbE6IBXVIB"
      }
    },
    {
      "cell_type": "code",
      "source": [
        "# Create a text file and write to it\n",
        "file_name = \"sample.txt\"\n",
        "sample_text = \"This is some sample text that will be written to the file.\\nThis is the second line.\"\n",
        "\n",
        "with open(file_name, \"w\") as file:\n",
        "  file.write(sample_text)\n",
        "\n",
        "print(f\"Successfully wrote to {file_name}\")\n",
        "\n",
        "# Read the text from the file\n",
        "with open(file_name, \"r\") as file:\n",
        "  read_text = file.read()\n",
        "\n",
        "print(f\"\\nContent of {file_name}:\")\n",
        "print(read_text)"
      ],
      "metadata": {
        "colab": {
          "base_uri": "https://localhost:8080/"
        },
        "id": "MRv80LMbXnB5",
        "outputId": "d9e6921a-3fb0-404f-da2c-a7aa7bad697d"
      },
      "execution_count": 5,
      "outputs": [
        {
          "output_type": "stream",
          "name": "stdout",
          "text": [
            "Successfully wrote to sample.txt\n",
            "\n",
            "Content of sample.txt:\n",
            "This is some sample text that will be written to the file.\n",
            "This is the second line.\n"
          ]
        }
      ]
    },
    {
      "cell_type": "markdown",
      "source": [
        "This code demonstrates how to create, write to, and read from a text file in Python.\n",
        "\n",
        "Here's a breakdown:\n",
        "\n",
        "Writing to the file:\n",
        "It defines the file_name as \"sample.txt\" and the sample_text to be written.\n",
        "with open(file_name, \"w\") as file: opens the file in write mode (\"w\"). If the file doesn't exist, it creates it. If it does exist, it will overwrite its contents. The with statement ensures the file is automatically closed even if errors occur.\n",
        "file.write(sample_text) writes the sample_text to the file.\n",
        "A success message is printed.\n",
        "Reading from the file:\n",
        "with open(file_name, \"r\") as file: opens the same file in read mode (\"r\").\n",
        "read_text = file.read() reads the entire content of the file into the read_text variable.\n",
        "The content read from the file is then printed.\n"
      ],
      "metadata": {
        "id": "Na0wGesHX68x"
      }
    },
    {
      "cell_type": "markdown",
      "source": [
        "task4:Write a Python program for a simple calculator using functions:\n",
        "\n",
        "prompt:\n",
        "Write a Python program for a simple calculator using functions:\n",
        "add, subtract, multiply, divide\n",
        "Ask the user to select an operation and enter two numbers\n",
        "Perform the calculation and print the result.\n",
        "\n"
      ],
      "metadata": {
        "id": "UY6Y_5wMX8jP"
      }
    },
    {
      "cell_type": "code",
      "source": [
        "def add(x, y):\n",
        "  \"\"\"Adds two numbers.\"\"\"\n",
        "  return x + y\n",
        "\n",
        "def subtract(x, y):\n",
        "  \"\"\"Subtracts the second number from the first.\"\"\"\n",
        "  return x - y\n",
        "\n",
        "def multiply(x, y):\n",
        "  \"\"\"Multiplies two numbers.\"\"\"\n",
        "  return x * y\n",
        "\n",
        "def divide(x, y):\n",
        "  \"\"\"Divides the first number by the second.\"\"\"\n",
        "  if y == 0:\n",
        "    return \"Error! Division by zero.\"\n",
        "  else:\n",
        "    return x / y\n",
        "\n",
        "print(\"Select operation:\")\n",
        "print(\"1.Add\")\n",
        "print(\"2.Subtract\")\n",
        "print(\"3.Multiply\")\n",
        "print(\"4.Divide\")\n",
        "\n",
        "while True:\n",
        "  # Take input from the user\n",
        "  choice = input(\"Enter choice(1/2/3/4): \")\n",
        "\n",
        "  # Check if choice is one of the four options\n",
        "  if choice in ('1', '2', '3', '4'):\n",
        "    try:\n",
        "      num1 = float(input(\"Enter first number: \"))\n",
        "      num2 = float(input(\"Enter second number: \"))\n",
        "    except ValueError:\n",
        "      print(\"Invalid input. Please enter numbers.\")\n",
        "      continue\n",
        "\n",
        "    if choice == '1':\n",
        "      print(num1, \"+\", num2, \"=\", add(num1, num2))\n",
        "\n",
        "    elif choice == '2':\n",
        "      print(num1, \"-\", num2, \"=\", subtract(num1, num2))\n",
        "\n",
        "    elif choice == '3':\n",
        "      print(num1, \"*\", num2, \"=\", multiply(num1, num2))\n",
        "\n",
        "    elif choice == '4':\n",
        "      print(num1, \"/\", num2, \"=\", divide(num1, num2))\n",
        "\n",
        "    # Check if user wants another calculation\n",
        "    next_calculation = input(\"Let's do next calculation? (yes/no): \")\n",
        "    if next_calculation.lower() == \"no\":\n",
        "      break\n",
        "\n",
        "  else:\n",
        "    print(\"Invalid Input\")"
      ],
      "metadata": {
        "colab": {
          "base_uri": "https://localhost:8080/"
        },
        "id": "XutrAehzZ5DB",
        "outputId": "1b0ab9d4-b093-48f8-fca9-4b4c474d21c7"
      },
      "execution_count": 6,
      "outputs": [
        {
          "name": "stdout",
          "output_type": "stream",
          "text": [
            "Select operation:\n",
            "1.Add\n",
            "2.Subtract\n",
            "3.Multiply\n",
            "4.Divide\n",
            "Enter choice(1/2/3/4): 2\n",
            "Enter first number: 14\n",
            "Enter second number: 2\n",
            "14.0 - 2.0 = 12.0\n",
            "Let's do next calculation? (yes/no): yes\n",
            "Enter choice(1/2/3/4): 1\n",
            "Enter first number: 14\n",
            "Enter second number: 2\n",
            "14.0 + 2.0 = 16.0\n",
            "Let's do next calculation? (yes/no): yes\n",
            "Enter choice(1/2/3/4): 3\n",
            "Enter first number: 14\n",
            "Enter second number: 2\n",
            "14.0 * 2.0 = 28.0\n",
            "Let's do next calculation? (yes/no): yes\n",
            "Enter choice(1/2/3/4): 4\n",
            "Enter first number: 14\n",
            "Enter second number: 2\n",
            "14.0 / 2.0 = 7.0\n",
            "Let's do next calculation? (yes/no): no\n"
          ]
        }
      ]
    },
    {
      "cell_type": "markdown",
      "source": [
        "This code defines a simple calculator program using Python functions for basic arithmetic operations: addition, subtraction, multiplication, and division.\n",
        "\n",
        "Here's a breakdown:\n",
        "\n",
        "Functions:\n",
        "add(x, y): Takes two numbers and returns their sum.\n",
        "subtract(x, y): Takes two numbers and returns the difference of the first minus the second.\n",
        "multiply(x, y): Takes two numbers and returns their product.\n",
        "divide(x, y): Takes two numbers and returns their quotient. It also includes a check to prevent division by zero.\n",
        "User Interaction:\n",
        "The program displays the available operations to the user.\n",
        "It enters a while True loop to allow for multiple calculations until the user chooses to exit.\n",
        "Inside the loop, it prompts the user to enter their choice of operation (1-4).\n",
        "It checks if the choice is valid.\n",
        "If the choice is valid, it prompts the user to enter two numbers. It includes a try-except block to handle potential ValueError if the user enters non-numeric input.\n",
        "Based on the user's choice, it calls the corresponding function and prints the result.\n",
        "After each calculation, it asks the user if they want to perform another calculation. If the user enters \"no\" (case-insensitive), the loop breaks.\n",
        "If the initial choice is invalid, it prints an \"Invalid Input\" message.\n"
      ],
      "metadata": {
        "id": "vXzqfx-0ae3B"
      }
    },
    {
      "cell_type": "markdown",
      "source": [
        "task5: Write a Python program that checks if a given year is a leap year.\n",
        "prompt:\n",
        "Write a Python program that checks if a given year is a leap year."
      ],
      "metadata": {
        "id": "FVCxdlG6agAZ"
      }
    },
    {
      "cell_type": "code",
      "source": [
        "def is_leap_year(year):\n",
        "  \"\"\"\n",
        "  Checks if a given year is a leap year.\n",
        "\n",
        "  Args:\n",
        "    year: The year to check (integer).\n",
        "\n",
        "  Returns:\n",
        "    True if the year is a leap year, False otherwise.\n",
        "  \"\"\"\n",
        "  # Leap years are divisible by 4, except for years divisible by 100\n",
        "  # but not by 400.\n",
        "  return (year % 4 == 0 and year % 100 != 0) or (year % 400 == 0)\n",
        "\n",
        "# Get input from the user\n",
        "try:\n",
        "  year_to_check = int(input(\"Enter a year: \"))\n",
        "\n",
        "  if is_leap_year(year_to_check):\n",
        "    print(f\"{year_to_check} is a leap year.\")\n",
        "  else:\n",
        "    print(f\"{year_to_check} is not a leap year.\")\n",
        "\n",
        "except ValueError:\n",
        "  print(\"Invalid input. Please enter a valid year (a whole number).\")"
      ],
      "metadata": {
        "colab": {
          "base_uri": "https://localhost:8080/"
        },
        "id": "dcxsAQo3ar5g",
        "outputId": "6965f5ca-990c-4594-d5b5-61d6b3641337"
      },
      "execution_count": 7,
      "outputs": [
        {
          "output_type": "stream",
          "name": "stdout",
          "text": [
            "Enter a year: 2014\n",
            "2014 is not a leap year.\n"
          ]
        }
      ]
    },
    {
      "cell_type": "markdown",
      "source": [
        "This code defines a Python program that checks if a given year is a leap year.\n",
        "\n",
        "Here's a breakdown:\n",
        "\n",
        "is_leap_year(year) function:\n",
        "This function takes an integer year as input.\n",
        "It applies the rules for determining a leap year:\n",
        "A year is a leap year if it is divisible by 4,\n",
        "BUT not divisible by 100,\n",
        "UNLESS it is also divisible by 400.\n",
        "The expression (year % 4 == 0 and year % 100 != 0) or (year % 400 == 0) directly translates these rules into a boolean result (True if it's a leap year, False otherwise).\n",
        "User Input and Output:\n",
        "The code prompts the user to \"Enter a year: \".\n",
        "It uses a try-except block to handle potential ValueError if the user enters input that cannot be converted to an integer.\n",
        "If the input is a valid integer, it calls the is_leap_year() function with the entered year.\n",
        "Based on the function's return value, it prints whether the entered year is or is not a leap year.\n",
        "If a ValueError occurs, it prints an \"Invalid input\" message.\n"
      ],
      "metadata": {
        "id": "J83fRWc9a6ky"
      }
    }
  ]
}